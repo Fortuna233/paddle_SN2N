{
 "cells": [
  {
   "cell_type": "code",
   "execution_count": 1,
   "metadata": {},
   "outputs": [],
   "source": [
    "# import modules\n",
    "import torch\n",
    "import numpy as np\n",
    "import tifffile\n",
    "\n",
    "\n",
    "from src.utils.utils_dataprocessing import get_all_files, split_and_save_tensor, normalize, resample, fourier_interpolate\n",
    "from src.SN2N_2D.constants_2d import rawdataFolder, datasetsFolder, visualizationFolder, model, paramsFolder\n",
    "from src.utils.utils_train_predict import try_all_gpus, loss_channels"
   ]
  },
  {
   "cell_type": "code",
   "execution_count": 2,
   "metadata": {},
   "outputs": [
    {
     "name": "stdout",
     "output_type": "stream",
     "text": [
      "/home/tyche/paddle_SN2N/data/data_2d/raw_data/10.tif\n"
     ]
    }
   ],
   "source": [
    "raw_map_list = get_all_files(rawdataFolder)\n",
    "print(raw_map_list[1])\n",
    "raw_map = np.asarray(tifffile.imread(raw_map_list[1]))\n",
    "normalized_map = normalize(raw_map, mode='2d')\n",
    "tifffile.imwrite(f'{visualizationFolder}/normalized_maps/normalized_map.tif', normalized_map) \n"
   ]
  },
  {
   "cell_type": "code",
   "execution_count": 3,
   "metadata": {},
   "outputs": [
    {
     "name": "stdout",
     "output_type": "stream",
     "text": [
      "/home/tyche/paddle_SN2N/data/data_2d/datasets/102_0_64_320.npz\n",
      "(128, 128)\n"
     ]
    }
   ],
   "source": [
    "datasets = get_all_files(datasetsFolder)\n",
    "print(datasets[1000])\n",
    "chunk = np.load(datasets[1000])['arr_0']\n",
    "print(chunk.shape)\n",
    "tifffile.imwrite(f'{visualizationFolder}/maps/chunk.tif', chunk)"
   ]
  },
  {
   "cell_type": "code",
   "execution_count": 4,
   "metadata": {},
   "outputs": [],
   "source": [
    "\n",
    "kernel = torch.tensor([[[1, 0], [0, 1]],\n",
    "                      [[0, 1], [1, 0]]]).float() / 2\n",
    "\n",
    "# 使用vstack进行垂直堆叠\n",
    "vertical_kernel = np.vstack((kernel[0], kernel[1]))\n",
    "\n",
    "# 保存为TIF文件\n",
    "tifffile.imwrite(f'{visualizationFolder}/kernel_vertical.tif', vertical_kernel)"
   ]
  },
  {
   "cell_type": "code",
   "execution_count": 5,
   "metadata": {},
   "outputs": [
    {
     "name": "stdout",
     "output_type": "stream",
     "text": [
      "torch.Size([128, 128])\n",
      "tensor(0.6428)\n",
      "torch.Size([2, 64, 64])\n",
      "tensor(0.6428, grad_fn=<MeanBackward0>)\n",
      "torch.Size([2, 1, 128, 128])\n",
      "tensor(0.6429, grad_fn=<MeanBackward0>)\n"
     ]
    }
   ],
   "source": [
    "\n",
    "kernel = torch.tensor([[[1, 0], [0, 1]],\n",
    "                      [[0, 1], [1, 0]]]).float() / 2\n",
    "out_channels, *spatial_dims = kernel.shape\n",
    "kernel = kernel.view(out_channels, 1, *spatial_dims)\n",
    "conv_layer = torch.nn.Conv2d(in_channels=1, out_channels=2, kernel_size=2, stride=2, padding=0, bias=False)\n",
    "conv_layer.weight.data = kernel\n",
    "\n",
    "chunk = torch.from_numpy(np.load(datasets[0])['arr_0'])\n",
    "print(chunk.shape)\n",
    "print(torch.mean(chunk))\n",
    "down_chunk = conv_layer(chunk.view(1, *chunk.shape))\n",
    "print(down_chunk.shape)\n",
    "print(torch.mean(down_chunk))\n",
    "vertical_chunk = np.vstack((down_chunk[0].detach().numpy(), np.zeros((1, 64), dtype=np.float32), down_chunk[1].detach().numpy()))\n",
    "tifffile.imwrite(f'{visualizationFolder}/down_sampled.tif', vertical_chunk)\n",
    "up_chunk = fourier_interpolate(down_chunk.view(2, 1, 64, 64)) * 16\n",
    "print(up_chunk.shape)\n",
    "print(torch.mean(up_chunk))\n",
    "vertical_chunk1 = np.vstack((up_chunk[0][0].detach().numpy(), np.zeros((1, 128), dtype=np.float32), up_chunk[1][0].detach().numpy()))\n",
    "tifffile.imwrite(f'{visualizationFolder}/up_sampled.tif', vertical_chunk1)"
   ]
  },
  {
   "cell_type": "code",
   "execution_count": 6,
   "metadata": {},
   "outputs": [
    {
     "name": "stdout",
     "output_type": "stream",
     "text": [
      "current_epoch:20\n",
      "load /home/tyche/paddle_SN2N/data/data_2d/params/checkPoint_19\n",
      "num_parameters: 401288\n",
      "tensor(0.0008, device='cuda:0', grad_fn=<DivBackward0>)\n"
     ]
    }
   ],
   "source": [
    "# training\n",
    "\n",
    "\n",
    "def init_weights(m):\n",
    "    if type(m) == torch.nn.Linear or type(m) == torch.nn.Conv3d or type(m) == torch.nn.Conv2d:  \n",
    "        torch.nn.init.xavier_uniform_(m.weight)\n",
    "\n",
    "\n",
    "current_epoch = len(get_all_files(paramsFolder))\n",
    "print(f\"current_epoch:{current_epoch}\")\n",
    "if current_epoch != 0:\n",
    "    state_dict = torch.load(f'{paramsFolder}/checkPoint_{current_epoch - 1}.pth')\n",
    "    missing_keys, unexpected_keys = model.load_state_dict(state_dict)\n",
    "    if missing_keys:\n",
    "        print(f\"missing_keys: {missing_keys}\")\n",
    "    if unexpected_keys:\n",
    "        print(f\"unused_keys: {unexpected_keys}\")\n",
    "\n",
    "    print(f'load {paramsFolder}/checkPoint_{current_epoch - 1}')\n",
    "else:\n",
    "    model.apply(init_weights)\n",
    "    print(f'no params found, randomly init model')\n",
    "\n",
    "\n",
    "devices = try_all_gpus()\n",
    "model = model.to(devices[0])\n",
    "\n",
    "total_params = sum(p.numel() for p in model.parameters())\n",
    "print(f\"num_parameters: {total_params}\")\n",
    "\n",
    "up_chunk = up_chunk.to(device=devices[0])\n",
    "predicted = model(up_chunk)\n",
    "\n",
    "print(loss_channels(up_chunk.view(1, 2, 128, 128), predicted.view(1, 2, 128, 128)))\n",
    "up_chunk = model(up_chunk)\n",
    "\n",
    "vertical_chunk2 = np.vstack((up_chunk[0][0].cpu().detach().numpy(), np.zeros((1, 128), dtype=np.float32), up_chunk[1][0].cpu().detach().numpy()))\n",
    "tifffile.imwrite(f'{visualizationFolder}/predicted.tif', vertical_chunk2)"
   ]
  },
  {
   "cell_type": "code",
   "execution_count": 7,
   "metadata": {},
   "outputs": [],
   "source": [
    "# predicting\n"
   ]
  }
 ],
 "metadata": {
  "kernelspec": {
   "display_name": "SN2N",
   "language": "python",
   "name": "python3"
  },
  "language_info": {
   "codemirror_mode": {
    "name": "ipython",
    "version": 3
   },
   "file_extension": ".py",
   "mimetype": "text/x-python",
   "name": "python",
   "nbconvert_exporter": "python",
   "pygments_lexer": "ipython3",
   "version": "3.9.21"
  }
 },
 "nbformat": 4,
 "nbformat_minor": 2
}
