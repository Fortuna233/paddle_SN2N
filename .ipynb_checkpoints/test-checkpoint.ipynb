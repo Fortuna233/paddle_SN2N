{
 "cells": [
  {
   "cell_type": "code",
   "execution_count": 1,
   "metadata": {},
   "outputs": [
    {
     "ename": "ModuleNotFoundError",
     "evalue": "No module named 'torch'",
     "output_type": "error",
     "traceback": [
      "\u001b[0;31m---------------------------------------------------------------------------\u001b[0m",
      "\u001b[0;31mModuleNotFoundError\u001b[0m                       Traceback (most recent call last)",
      "Cell \u001b[0;32mIn[1], line 4\u001b[0m\n\u001b[1;32m      2\u001b[0m \u001b[38;5;28;01mimport\u001b[39;00m \u001b[38;5;21;01mtime\u001b[39;00m\n\u001b[1;32m      3\u001b[0m \u001b[38;5;28;01mimport\u001b[39;00m \u001b[38;5;21;01mrandom\u001b[39;00m\n\u001b[0;32m----> 4\u001b[0m \u001b[38;5;28;01mimport\u001b[39;00m \u001b[38;5;21;01mtorch\u001b[39;00m\n\u001b[1;32m      5\u001b[0m \u001b[38;5;28;01mimport\u001b[39;00m \u001b[38;5;21;01mmrcfile\u001b[39;00m\n\u001b[1;32m      6\u001b[0m \u001b[38;5;28;01mimport\u001b[39;00m \u001b[38;5;21;01mtifffile\u001b[39;00m\n",
      "\u001b[0;31mModuleNotFoundError\u001b[0m: No module named 'torch'"
     ]
    }
   ],
   "source": [
    "import os\n",
    "import time\n",
    "import random\n",
    "import torch\n",
    "import mrcfile\n",
    "import tifffile\n",
    "import numpy as np\n",
    "from torch import nn\n",
    "from math import ceil\n",
    "import matplotlib.pyplot as plt\n",
    "from mpl_toolkits.mplot3d import Axes3D\n",
    "from torch import FloatTensor as FT\n",
    "from torch.autograd import Variable as V\n",
    "from concurrent.futures import ThreadPoolExecutor\n",
    "from utils import *\n",
    "from matplotlib.colors import ListedColormap\n",
    "rawData = \"/home/tyche/paddle_SN2N/raw_data/\"\n",
    "Datasets = \"/home/tyche/paddle_SN2N/datasets/\"\n",
    "\n",
    "\n",
    "def get_all_files(directory):\n",
    "    file_list = list()\n",
    "    n_files = 0\n",
    "    for file in os.listdir(directory):\n",
    "        file_list.append(f\"{directory}/{file}\")\n",
    "        n_files += 1\n",
    "    return file_list, n_files"
   ]
  },
  {
   "cell_type": "code",
   "execution_count": null,
   "metadata": {},
   "outputs": [],
   "source": [
    "files, n_files = get_all_files(f\"{rawData}/..\")\n",
    "print(files, n_files)\n",
    "print(len(files))"
   ]
  },
  {
   "cell_type": "code",
   "execution_count": null,
   "metadata": {},
   "outputs": [],
   "source": [
    "kernel = torch.tensor([[[[0, 1], [1, 1]], [[1, 1], [1, 1]]],\n",
    "                       [[[1, 0], [1, 1]], [[1, 1], [1, 1]]],\n",
    "                       [[[1, 1], [0, 1]], [[1, 1], [1, 1]]],\n",
    "                       [[[1, 1], [1, 0]], [[1, 1], [1, 1]]],\n",
    "                       [[[1, 1], [1, 1]], [[0, 1], [1, 1]]],\n",
    "                       [[[1, 1], [1, 1]], [[1, 0], [1, 1]]],\n",
    "                       [[[1, 1], [1, 1]], [[1, 1], [0, 1]]],\n",
    "                       [[[1, 1], [1, 1]], [[1, 1], [1, 0]]],])\n",
    "kernel.shape"
   ]
  },
  {
   "cell_type": "code",
   "execution_count": null,
   "metadata": {},
   "outputs": [],
   "source": [
    "data = np.random.choice([0, 1], size=(5, 5, 5))\n",
    "colors = ['yellow', 'blue', 'green', 'red', 'purple']\n",
    "cmap = ListedColormap(colors)\n",
    "fig, axes = plt.subplots(2, 4, figsize=(15, 10), subplot_kw={'projection': '3d'})\n",
    "axes = axes.flatten()\n",
    "for i in range(min(8, kernel.shape[0])):  # 最多显示6个子图\n",
    "    ax = axes[i]\n",
    "    ax.voxels(kernel[i], facecolors=cmap(i%len(colors)), edgecolor='k', alpha=0.8)\n",
    "    ax.set_title(f'kernel {i+1}')\n",
    "    ax.set_xlabel('X')\n",
    "    ax.set_ylabel('Y')\n",
    "    ax.set_zlabel('Z')\n",
    "plt.show()"
   ]
  },
  {
   "cell_type": "code",
   "execution_count": null,
   "metadata": {},
   "outputs": [],
   "source": [
    "x = torch.randn(1, 1, 5, 5)  # 输入张量 [批次大小, 通道数, 高度, 宽度]\n",
    "\n",
    "kernel = torch.tensor([[[[1, 0], [0, 1]], [[0, 1], [1, 0]]], \n",
    "                       [[[0, 1], [1, 0]], [[1, 0], [0, 1]]]])"
   ]
  },
  {
   "cell_type": "code",
   "execution_count": null,
   "metadata": {},
   "outputs": [],
   "source": [
    "x = torch.arange(8).view(2, 2, 2)\n",
    "dims = [[0, 1], [1, 2], [0, 2]]\n",
    "fig, axes = plt.subplots(1, 4, figsize=(15, 10), subplot_kw={'projection': '3d'})\n",
    "axes = axes.flatten()\n",
    "for i in range(3):  \n",
    "    ax = axes[i]\n",
    "    ax.voxels(torch.rot90(x, 1, dims[i]), facecolors=cmap(i%len(colors)), edgecolor='k', alpha=0.8)\n",
    "    ax.set_xlabel('X')\n",
    "    ax.set_ylabel('Y')\n",
    "    ax.set_zlabel('Z')\n",
    "axes[3].voxels(x)\n",
    "plt.show()\n",
    "torch.rot90(x, 1, [0, 2])\n"
   ]
  },
  {
   "cell_type": "code",
   "execution_count": null,
   "metadata": {},
   "outputs": [],
   "source": [
    "def visualize_3d_tensor_animation(tensor, title=\"3D Tensor Visualization\", interval=1000/24, cmap=\"viridis\"):\n",
    "    layers, rows, cols = tensor.shape\n",
    "    \n",
    "    fig, axes = plt.subplots(1, 2, figsize=(12, 5))\n",
    "    fig.suptitle(title, fontsize=16)\n",
    "    \n",
    "    vmin, vmax = tensor.min(), tensor.max()\n",
    "    norm = Normalize(vmin=vmin, vmax=vmax)\n",
    "    \n",
    "    # 左侧2D层视图\n",
    "    im1 = axes[0].imshow(np.zeros((rows, cols)), cmap=cmap, norm=norm)\n",
    "    axes[0].set_title(\"Current Layer\")\n",
    "    axes[0].set_xlabel(\"x\")\n",
    "    axes[0].set_ylabel(\"y\")\n",
    "    \n",
    "    fig.colorbar(im1, ax=axes[0])\n",
    "    \n",
    "    layer_text = axes[0].text(0.02, 0.95, '', transform=axes[0].transAxes, color='white', fontweight='bold')\n",
    "    \n",
    "    # 右侧3D整体视图\n",
    "    ax3d = fig.add_subplot(122, projection='3d')\n",
    "    ax3d.set_title(\"Tensor Structure\")\n",
    "    ax3d.set_xlabel(\"X (Columns)\")\n",
    "    ax3d.set_ylabel(\"Y (Rows)\")\n",
    "    ax3d.set_zlabel(\"Z (Layers)\")\n",
    "    \n",
    "    ax3d.set_xlim(0, cols)\n",
    "    ax3d.set_ylim(0, rows)\n",
    "    ax3d.set_zlim(0, layers)\n",
    "    \n",
    "    # 生成3D散点数据\n",
    "    x, y, z = np.indices((cols, rows, layers)).reshape(3, -1)\n",
    "    values = tensor.transpose(2, 1, 0).reshape(-1)\n",
    "    colors = cm.get_cmap(cmap)(norm(values))\n",
    "    \n",
    "    scatter = ax3d.scatter(x, y, z, c=colors, alpha=0.3, s=10)\n",
    "    current_scatter = ax3d.scatter([], [], [], c='red', s=50, alpha=0.8)\n",
    "    \n",
    "    def update(frame):\n",
    "        im1.set_data(tensor[frame])\n",
    "        layer_text.set_text(f\"Layer {frame+1}/{layers}\")\n",
    "        \n",
    "        layer_mask = (z == frame)\n",
    "        x_layer, y_layer, z_layer = x[layer_mask], y[layer_mask], z[layer_mask]\n",
    "        current_scatter._offsets3d = (x_layer, y_layer, z_layer)\n",
    "        \n",
    "        axes[0].set_title(f\"Layer {frame+1}: Value Range [{tensor[frame].min():.2f}, {tensor[frame].max():.2f}]\")\n",
    "        \n",
    "        return im1, current_scatter, layer_text\n",
    "    \n",
    "    ani = FuncAnimation(fig, update, frames=layers, interval=interval, blit=True)\n",
    "    \n",
    "    plt.tight_layout()\n",
    "    plt.subplots_adjust(top=0.9)\n",
    "    \n",
    "    return ani\n",
    "\n",
    "if __name__ == \"__main__\":\n",
    "    tensor = np.array(tifffile.imread('c12_SR_w1L-561_t1.tif'))\n",
    "    \n",
    "    ani = visualize_3d_tensor_animation(\n",
    "        tensor, \n",
    "        title=\"Random 3D Tensor Animation\",\n",
    "        interval=1500\n",
    "    )\n",
    "    \n",
    "    plt.show()\n",
    "    ani.save('tensor_animation.gif', writer='pillow', fps=2)\n"
   ]
  },
  {
   "cell_type": "code",
   "execution_count": null,
   "metadata": {},
   "outputs": [],
   "source": []
  }
 ],
 "metadata": {
  "kernelspec": {
   "display_name": "Python 3 (ipykernel)",
   "language": "python",
   "name": "python3"
  },
  "language_info": {
   "codemirror_mode": {
    "name": "ipython",
    "version": 3
   },
   "file_extension": ".py",
   "mimetype": "text/x-python",
   "name": "python",
   "nbconvert_exporter": "python",
   "pygments_lexer": "ipython3",
   "version": "3.12.3"
  }
 },
 "nbformat": 4,
 "nbformat_minor": 2
}
